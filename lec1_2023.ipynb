{
 "cells": [
  {
   "cell_type": "markdown",
   "id": "ad58e484",
   "metadata": {},
   "source": [
    "## Recommended resources\n",
    "- [3Blue1Brown's Neural Network Series](https://www.youtube.com/watch?v=aircAruvnKk&list=PLZHQObOWTQDNU6R1_67000Dx_ZCJB-3pi)"
   ]
  },
  {
   "cell_type": "code",
   "execution_count": 1,
   "id": "350546b0",
   "metadata": {},
   "outputs": [
    {
     "name": "stderr",
     "output_type": "stream",
     "text": [
      "C:\\Users\\burro\\anaconda3\\envs\\torch\\lib\\site-packages\\tqdm\\auto.py:21: TqdmWarning: IProgress not found. Please update jupyter and ipywidgets. See https://ipywidgets.readthedocs.io/en/stable/user_install.html\n",
      "  from .autonotebook import tqdm as notebook_tqdm\n"
     ]
    }
   ],
   "source": [
    "import torch\n",
    "import torchvision\n",
    "#install torchvision via anaconda prompt:\n",
    "#  conda install -c pytorch torchvision "
   ]
  },
  {
   "cell_type": "markdown",
   "id": "6b8416a8",
   "metadata": {},
   "source": [
    "## 1. Definition\n",
    "\n",
    "A feed-forward neural network $f(\\cdot \\theta)$ is a **directed acyclic graph**, parametrized by $\\theta$, that applies a series of transformation to an input $\\mathbf{x} \\in \\mathbb{R}^d$, layer-wise, and without recursion, to\n",
    "produce an output $y = f(\\mathbf{x}, \\theta) \\in \\mathbb{R}^s$ , as depicted in below.\n",
    "<p align=\"center\\\">\n",
    "<img src=\"layer_wise_fnn.png\\\" width=\"550\" title=\"Layer computation in a feed-forward neural network\">"
   ]
  },
  {
   "cell_type": "markdown",
   "id": "0959807b",
   "metadata": {},
   "source": [
    "Given a $K$ layer network -- here the input is not considered as a layer --, the $k$-th layer is characterized by a function\n",
    "$f_k$ parametrized by $\\theta_k$. \n",
    "In other words, \n",
    "$$f(\\mathbf{x}, \\theta) = f_K(\\dots f_2(f_1(\\mathbf{x}; \\theta_1); \\theta_2) \\dots; \\theta_K).$$\n",
    "The $f_k$'s are of the form\n",
    "$$f_k(\\mathbf{z}_{k-1}; \\theta_k) = \\mathbf{z}_k = \\sigma_k(\\mathbf{q}_{k-1}) = \\sigma_k(\\mathbf{W}_k\\mathbf{z}_{k-1} + \\mathbf{b}_k),$$\n",
    "where $\\theta_k = \\{\\mathbf{W}_k, \\mathbf{b}_k\\}$, $\\mathbf{W}_k \\in \\mathbb{R}^{h_k\\times h_{k-1}}$ is known as the **weight\n",
    "matrix**, $\\mathbf{b}_k \\in \\mathbb{R}^{h_k}$ is the **bias vector**, $\\mathbf{z}_k \\in \\mathbb{R}^{h_k}$ is the output\n",
    "of the $k$-th layer, $h_k$ is the dimension (the number of neurons) of the $k$-th layer, $\\sigma_k$ is point-wise operator \n",
    "known as **activation function** of the layer, and $\\mathbf{q}_k$ is the **pre-activation vector**.\n",
    "\n",
    "\n",
    "Typical **activation functions** include: \n",
    "- **tanh**: $x \\mapsto \\frac{\\exp(2x) -1 }{\\exp(2x) + 1}$,\n",
    "- **sigmoid**: $x \\mapsto \\frac{1}{\\exp(-x) + 1}$,\n",
    "- **ReLU**:  $x \\mapsto \\max(0,x)$ (The Rectified Linear Unit ),\n",
    "- **softmax**:  $\\mathbf{x} \\in \\mathbb{R}^d  \\mapsto [\\dots, \\frac{\\exp(\\mathbf{x}[i])}{\\sum_{j=1}^d \\exp(\\mathbf{x}[j])}, \\dots]$.\n",
    "\n",
    "\n",
    "Given an output $\\mathbf{z} \\in \\mathbb{R}^s$ and a ground-truth $\\mathbf{y} \\in \\mathbb{R}^s$, commonly used **loss functions** are:\n",
    "- **MSE**: $(\\mathbf{z}, \\mathbf{y}) \\mapsto \\|\\mathbf{z} - \\mathbf{y}\\|_2^2$, (Mean Squared Error),\n",
    "- **MAE**: $(\\mathbf{z}, \\mathbf{y}) \\mapsto \\|\\mathbf{z} - \\mathbf{y}\\|_1$, (Mean Absolute Error),\n",
    "- **CE**: $(\\mathbf{z}, \\mathbf{y}) \\mapsto - \\langle \\mathbf{y}, \\log\\mathbf{z} \\rangle = - \\sum_i \\mathbf{y}[i] \\log \\mathbf{z}[i] $, (Cross-entropy).\n",
    "\n",
    "    \n",
    "**Illustration of a FNN**\n",
    "<p align=\"center\\\">\n",
    "<img src=\"fnn_example.png\\\" width=\"450\" title=\"Graphical view of a FNN\">\n",
    "</p> "
   ]
  },
  {
   "cell_type": "markdown",
   "id": "dab9fe0d",
   "metadata": {},
   "source": [
    "## 2. Back-propagation\n",
    "\n",
    "### 2.1 Basic idea\n",
    "\n",
    "Given a set of network parameter $\\theta$, and a dataset $\\mathcal{D} = \\{\\mathbf{x}_i \\in \\mathbb{R}^d, \\mathbf{y}_i \\in \\mathbb{R}^s\\}$,\n",
    "the goal is to optimize the following problem\n",
    "$$\n",
    "\\underset{\\theta}{ \\text{ minimize } } \\Big[ \\ell(\\theta) =  \\frac{1}{n} \\sum_{i=1}^n loss(f(\\mathbf{x}_i; \\theta), \\mathbf{y}_i) \\Big].\n",
    "$$\n",
    "\n",
    "Not only is the problem  in high dimension, $\\text{dim}(\\theta) > 10$, it is also non-convex. Therefore, $\\theta$ is updated iteratively based on first order information (the gradient) so as to reach a (local) minimum.\n",
    "\n",
    "Let $\\theta^t$ be the value of $\\theta$ at the $t$-th iteration, $\\theta^0$ being the initialization of the parameters of the network,\n",
    "the update rule of the standard gradient descent  is as follows,\n",
    "$$\n",
    "\\theta^{t+1} \\leftarrow \\theta^{t} - \\eta \\nabla_{\\theta^{t}}\\ell(\\theta^{t}) ,\n",
    "$$\n",
    "\n",
    "where $\\nabla_{\\theta} \\ell(\\theta)$ is the **gradient** of $\\ell$ w.r.t to $\\theta$, and $\\eta$ is the \n",
    "step-size also known as **learning rate**. The parameters in $\\theta$ are updated sequentially layer after another,\n",
    "starting with the output one, by back-propagating the loss value, as illustrated in the figure below.\n",
    "\n",
    "\n",
    "<p align=\"center\">\n",
    "<img src=\"layer_wise_fnn_bprop.png\" width=\"750\" title=\"Back-propagation\">\n",
    "\n",
    "    \n",
    "The **learning rate** is usually chosen experimentally based on the figure below. In practice, various different variants of gradient descent are used, and are built in functions into both pytorch and tensorflow. Some commonly used optimisers are:\n",
    "- Stochastic gradient descent (SGD)\n",
    "- Adadelta\n",
    "- Adam\n",
    "    \n",
    "    <p align=\"center\">\n",
    "<img src=\"learningrates.jpeg\" width=\"350\" title=\"Back-propagation\">"
   ]
  },
  {
   "cell_type": "markdown",
   "id": "94eb575a",
   "metadata": {},
   "source": [
    "## 3. Training\n",
    "\n",
    "### 3.1 Avoid over-fitting\n",
    "\n",
    "<p align=\"center\">\n",
    "<img src=\"fittings.jpg\" width=\"550\" title=\"Types of fittings during training.\" >\n",
    "</p> \n",
    "\n",
    "### Separate the data into three folds\n",
    "<p align=\"center\\\">\n",
    "<img src=\"datasep.png\" width=\"350\" title=\"Dataset separation.\" >\n",
    "</p>\n",
    "\n",
    "### 3.2 Assessing the model performance on the validation set\"\n",
    "\n",
    "<p align=\"center\">\n",
    "<img src=\"accuracies.jpeg\" width=\"350\" title=\"Dataset separation.\" >\n",
    "</p>\n",
    "\n",
    "### 3.3 Further reading:\n",
    "\n",
    "- [Deep learning book](http://deeplearningbook.org/)\n",
    "- [Stanford's CS231n](http://cs231n.github.io/)\n",
    "- [Washington University in St. Louis](https://github.com/jeffheaton/t81_558_deep_learning)\n",
    "- [Deep learning paper](http://www.cs.toronto.edu/~hinton/absps/NatureDeepReview.pdf)\n",
    "- [Tensorflow/Keras tutorial](https://www.tensorflow.org/guide/keras)\n"
   ]
  },
  {
   "cell_type": "markdown",
   "id": "46a790e2",
   "metadata": {},
   "source": [
    "## 4. Example - MNIST Classification\n",
    "\n",
    "- We will have a dataset $ \\mathcal{D} = \\{ (x_i,y_i) \\}$ of $n$ images $x_i$ and $n$ associated labels $y_i$, with $y_i = \\{0, 1, \\cdots, 9\\}$, $i=1,\\cdots,n$."
   ]
  },
  {
   "cell_type": "code",
   "execution_count": 44,
   "id": "71895c69",
   "metadata": {},
   "outputs": [],
   "source": [
    "from torchvision import datasets\n",
    "from torchvision.transforms import ToTensor\n",
    "\n",
    "train_data = datasets.MNIST(\n",
    "    root = 'data',\n",
    "    train = True,                         \n",
    "    transform = ToTensor(), \n",
    "    download = True)\n",
    "test_data = datasets.MNIST(\n",
    "    root = 'data', \n",
    "    train = False, \n",
    "    transform = ToTensor()\n",
    ")"
   ]
  },
  {
   "cell_type": "code",
   "execution_count": 4,
   "id": "e452bc7f",
   "metadata": {},
   "outputs": [
    {
     "name": "stdout",
     "output_type": "stream",
     "text": [
      "Dataset MNIST\n",
      "    Number of datapoints: 60000\n",
      "    Root location: data\n",
      "    Split: Train\n",
      "    StandardTransform\n",
      "Transform: ToTensor()\n"
     ]
    }
   ],
   "source": [
    "#print train_data\n",
    "print(train_data)"
   ]
  },
  {
   "cell_type": "code",
   "execution_count": 5,
   "id": "98073699",
   "metadata": {},
   "outputs": [
    {
     "name": "stdout",
     "output_type": "stream",
     "text": [
      "Dataset MNIST\n",
      "    Number of datapoints: 10000\n",
      "    Root location: data\n",
      "    Split: Test\n",
      "    StandardTransform\n",
      "Transform: ToTensor()\n"
     ]
    }
   ],
   "source": [
    "#print test_data\n",
    "print(test_data)"
   ]
  },
  {
   "cell_type": "code",
   "execution_count": 7,
   "id": "1e73b553",
   "metadata": {},
   "outputs": [
    {
     "name": "stdout",
     "output_type": "stream",
     "text": [
      "torch.Size([60000, 28, 28])\n",
      "torch.Size([60000])\n"
     ]
    }
   ],
   "source": [
    "print(train_data.data.size())\n",
    "print(train_data.targets.size())"
   ]
  },
  {
   "cell_type": "code",
   "execution_count": 10,
   "id": "6047c8c0",
   "metadata": {},
   "outputs": [
    {
     "data": {
      "image/png": "[encoded data removed]",
      "text/plain": [
       "<Figure size 432x288 with 1 Axes>"
      ]
     },
     "metadata": {
      "needs_background": "light"
     },
     "output_type": "display_data"
    }
   ],
   "source": [
    "#Visualisation\n",
    "# Plot one train data\n",
    "import matplotlib.pyplot as plt\n",
    "i=40000\n",
    "plt.imshow(train_data.data[i], cmap='gray')\n",
    "plt.title('%i' % train_data.targets[i])\n",
    "plt.show()"
   ]
  },
  {
   "cell_type": "code",
   "execution_count": 13,
   "id": "9bbc6876",
   "metadata": {},
   "outputs": [
    {
     "data": {
      "image/png": "[encoded data removed]",
      "text/plain": [
       "<Figure size 720x576 with 25 Axes>"
      ]
     },
     "metadata": {
      "needs_background": "light"
     },
     "output_type": "display_data"
    }
   ],
   "source": [
    "#Plot multiple\n",
    "figure = plt.figure(figsize=(10, 8))\n",
    "cols, rows = 5, 5\n",
    "for i in range(1, cols * rows + 1):\n",
    "    sample_idx = torch.randint(len(train_data), size=(1,)).item()\n",
    "    img, label = train_data[sample_idx]\n",
    "    figure.add_subplot(rows, cols, i)\n",
    "    plt.title(label)\n",
    "    plt.axis(\"off\")\n",
    "    plt.imshow(img.squeeze(), cmap=\"gray\")\n",
    "plt.show()"
   ]
  },
  {
   "cell_type": "markdown",
   "id": "a57eac3f",
   "metadata": {},
   "source": [
    "## Preparing data for training with DataLoaders\n",
    "\n",
    "The Dataset retrieves our dataset’s features and labels one sample at a time. While training a model, we typically want to pass samples in “minibatches”, reshuffle the data at every epoch to reduce model overfitting, and use Python’s multiprocessing to speed up data retrieval."
   ]
  },
  {
   "cell_type": "code",
   "execution_count": 45,
   "id": "f899eec6",
   "metadata": {},
   "outputs": [
    {
     "data": {
      "text/plain": [
       "{'train': <torch.utils.data.dataloader.DataLoader at 0x29f31333430>,\n",
       " 'test': <torch.utils.data.dataloader.DataLoader at 0x29f2c0536a0>}"
      ]
     },
     "execution_count": 45,
     "metadata": {},
     "output_type": "execute_result"
    }
   ],
   "source": [
    "from torch.utils.data import DataLoader\n",
    "loaders = {\n",
    "    'train' : torch.utils.data.DataLoader(train_data, \n",
    "                                          batch_size=100, \n",
    "                                          shuffle=True, \n",
    "                                          num_workers=1),\n",
    "    \n",
    "    'test'  : torch.utils.data.DataLoader(test_data, \n",
    "                                          batch_size=100, \n",
    "                                          shuffle=True, \n",
    "                                          num_workers=1),\n",
    "}\n",
    "loaders"
   ]
  },
  {
   "cell_type": "code",
   "execution_count": 16,
   "id": "5766a252",
   "metadata": {},
   "outputs": [],
   "source": [
    "import torch.nn as nn\n",
    "import torch.nn.functional as F\n",
    "import torch.optim as optim"
   ]
  },
  {
   "cell_type": "markdown",
   "id": "bdfbe41e",
   "metadata": {},
   "source": [
    "## Define network"
   ]
  },
  {
   "cell_type": "code",
   "execution_count": 17,
   "id": "e0723289",
   "metadata": {},
   "outputs": [
    {
     "name": "stdout",
     "output_type": "stream",
     "text": [
      "Net(\n",
      "  (hidden1): Linear(in_features=784, out_features=512, bias=True)\n",
      "  (relu): ReLU()\n",
      "  (hidden2): Linear(in_features=512, out_features=10, bias=True)\n",
      "  (softmax): Softmax(dim=None)\n",
      ")\n"
     ]
    }
   ],
   "source": [
    "class Net(nn.Module):\n",
    "    def __init__(self):\n",
    "        super(Net, self).__init__()\n",
    "\n",
    "        self.hidden1 = nn.Linear(28*28,512)\n",
    "        self.relu = nn.ReLU()\n",
    "        self.hidden2 = nn.Linear(512,10)\n",
    "        self.softmax = nn.Softmax()\n",
    "        \n",
    "# [batch_size, 28, 28]\n",
    "    def forward(self, x): # x.size = [batch_size,28,28]\n",
    "        x = x.view(x.size(0), -1)  # flatten the input (batch_size, 28* 28)\n",
    "        x = self.hidden1(x) # size: [batch_size,512]\n",
    "        x = self.relu(x)\n",
    "        x = self.hidden2(x) # size [ batch_size, 10]\n",
    "        x = self.softmax(x) # probabilities of size [batch_size,10]\n",
    "        return x\n",
    "\n",
    "model = Net()\n",
    "print(model)"
   ]
  },
  {
   "cell_type": "code",
   "execution_count": 19,
   "id": "c6f7ee7a",
   "metadata": {},
   "outputs": [
    {
     "data": {
      "text/plain": [
       "Adam (\n",
       "Parameter Group 0\n",
       "    amsgrad: False\n",
       "    betas: (0.9, 0.999)\n",
       "    capturable: False\n",
       "    eps: 1e-08\n",
       "    foreach: None\n",
       "    lr: 0.01\n",
       "    maximize: False\n",
       "    weight_decay: 0\n",
       ")"
      ]
     },
     "execution_count": 19,
     "metadata": {},
     "output_type": "execute_result"
    }
   ],
   "source": [
    "learning_rate = 0.01\n",
    "\n",
    "optimizer = optim.Adam(model.parameters(), lr = learning_rate)   \n",
    "optimizer"
   ]
  },
  {
   "cell_type": "code",
   "execution_count": 21,
   "id": "5be27c9f",
   "metadata": {},
   "outputs": [
    {
     "data": {
      "text/plain": [
       "NLLLoss()"
      ]
     },
     "execution_count": 21,
     "metadata": {},
     "output_type": "execute_result"
    }
   ],
   "source": [
    "loss_func = nn.NLLLoss()   \n",
    "loss_func"
   ]
  },
  {
   "cell_type": "markdown",
   "id": "f2c339e8",
   "metadata": {},
   "source": [
    "## Training loop"
   ]
  },
  {
   "cell_type": "code",
   "execution_count": 22,
   "id": "e256a467",
   "metadata": {},
   "outputs": [
    {
     "name": "stderr",
     "output_type": "stream",
     "text": [
      "C:\\Users\\burro\\AppData\\Local\\Temp\\ipykernel_32340\\793619827.py:16: UserWarning: Implicit dimension choice for softmax has been deprecated. Change the call to include dim=X as an argument.\n",
      "  x = self.softmax(x) # probabilities of size [batch_size,10]\n"
     ]
    },
    {
     "name": "stdout",
     "output_type": "stream",
     "text": [
      "Epoch [1/10], Step [100/600], Loss: -0.6518\n",
      "Epoch [1/10], Step [200/600], Loss: -0.6801\n",
      "Epoch [1/10], Step [300/600], Loss: -0.8233\n",
      "Epoch [1/10], Step [400/600], Loss: -0.8258\n",
      "Epoch [1/10], Step [500/600], Loss: -0.7959\n",
      "Epoch [1/10], Step [600/600], Loss: -0.6705\n",
      "Epoch [2/10], Step [100/600], Loss: -0.8416\n",
      "Epoch [2/10], Step [200/600], Loss: -0.8482\n",
      "Epoch [2/10], Step [300/600], Loss: -0.8419\n",
      "Epoch [2/10], Step [400/600], Loss: -0.8881\n",
      "Epoch [2/10], Step [500/600], Loss: -0.8431\n",
      "Epoch [2/10], Step [600/600], Loss: -0.8284\n",
      "Epoch [3/10], Step [100/600], Loss: -0.8997\n",
      "Epoch [3/10], Step [200/600], Loss: -0.9000\n",
      "Epoch [3/10], Step [300/600], Loss: -0.9198\n",
      "Epoch [3/10], Step [400/600], Loss: -0.8400\n",
      "Epoch [3/10], Step [500/600], Loss: -0.8798\n",
      "Epoch [3/10], Step [600/600], Loss: -0.8450\n",
      "Epoch [4/10], Step [100/600], Loss: -0.8607\n",
      "Epoch [4/10], Step [200/600], Loss: -0.8098\n",
      "Epoch [4/10], Step [300/600], Loss: -0.8412\n",
      "Epoch [4/10], Step [400/600], Loss: -0.8303\n",
      "Epoch [4/10], Step [500/600], Loss: -0.7991\n",
      "Epoch [4/10], Step [600/600], Loss: -0.8400\n",
      "Epoch [5/10], Step [100/600], Loss: -0.8290\n",
      "Epoch [5/10], Step [200/600], Loss: -0.8882\n",
      "Epoch [5/10], Step [300/600], Loss: -0.8405\n",
      "Epoch [5/10], Step [400/600], Loss: -0.8900\n",
      "Epoch [5/10], Step [500/600], Loss: -0.8700\n",
      "Epoch [5/10], Step [600/600], Loss: -0.8413\n",
      "Epoch [6/10], Step [100/600], Loss: -0.8300\n",
      "Epoch [6/10], Step [200/600], Loss: -0.7700\n",
      "Epoch [6/10], Step [300/600], Loss: -0.7969\n",
      "Epoch [6/10], Step [400/600], Loss: -0.8201\n",
      "Epoch [6/10], Step [500/600], Loss: -0.7804\n",
      "Epoch [6/10], Step [600/600], Loss: -0.8200\n",
      "Epoch [7/10], Step [100/600], Loss: -0.8500\n",
      "Epoch [7/10], Step [200/600], Loss: -0.7654\n",
      "Epoch [7/10], Step [300/600], Loss: -0.8000\n",
      "Epoch [7/10], Step [400/600], Loss: -0.8000\n",
      "Epoch [7/10], Step [500/600], Loss: -0.8900\n",
      "Epoch [7/10], Step [600/600], Loss: -0.8322\n",
      "Epoch [8/10], Step [100/600], Loss: -0.8900\n",
      "Epoch [8/10], Step [200/600], Loss: -0.8700\n",
      "Epoch [8/10], Step [300/600], Loss: -0.8900\n",
      "Epoch [8/10], Step [400/600], Loss: -0.8600\n",
      "Epoch [8/10], Step [500/600], Loss: -0.8900\n",
      "Epoch [8/10], Step [600/600], Loss: -0.8498\n",
      "Epoch [9/10], Step [100/600], Loss: -0.8899\n",
      "Epoch [9/10], Step [200/600], Loss: -0.8500\n",
      "Epoch [9/10], Step [300/600], Loss: -0.7800\n",
      "Epoch [9/10], Step [400/600], Loss: -0.8202\n",
      "Epoch [9/10], Step [500/600], Loss: -0.8900\n",
      "Epoch [9/10], Step [600/600], Loss: -0.8500\n",
      "Epoch [10/10], Step [100/600], Loss: -0.8570\n",
      "Epoch [10/10], Step [200/600], Loss: -0.8700\n",
      "Epoch [10/10], Step [300/600], Loss: -0.8100\n",
      "Epoch [10/10], Step [400/600], Loss: -0.8500\n",
      "Epoch [10/10], Step [500/600], Loss: -0.8501\n",
      "Epoch [10/10], Step [600/600], Loss: -0.8496\n"
     ]
    }
   ],
   "source": [
    "from torch.autograd import Variable\n",
    "num_epochs = 10\n",
    "\n",
    "def train(num_epochs, model, loaders):\n",
    "    \n",
    "    model.train()\n",
    "        \n",
    "    # Train the model\n",
    "    total_step = len(loaders['train'])\n",
    "        \n",
    "    for epoch in range(num_epochs):\n",
    "        for i, (images, labels) in enumerate(loaders['train']):\n",
    "            # images is of size [batch_size, 28, 28]\n",
    "            \n",
    "            \n",
    "            # gives batch data, normalize x when iterate train_loader\n",
    "            b_x = Variable(images)   # batch x\n",
    "            b_y = Variable(labels)   # batch y\n",
    "            output = model(b_x)#[0]    \n",
    "            \n",
    "            #print(b_x.shape)\n",
    "            #print(output.shape)\n",
    "            #print(b_y.shape)\n",
    "            loss = loss_func(output, b_y)\n",
    "            \n",
    "            # clear gradients for this training step   \n",
    "            optimizer.zero_grad()           \n",
    "            \n",
    "            # backpropagation, compute gradients \n",
    "            loss.backward()                # apply gradients             \n",
    "            optimizer.step()                \n",
    "            \n",
    "            if (i+1) % 100 == 0:\n",
    "                print ('Epoch [{}/{}], Step [{}/{}], Loss: {:.4f}' \n",
    "                       .format(epoch + 1, num_epochs, i + 1, total_step, loss.item()))               \n",
    "        \n",
    "    \n",
    "    \n",
    "train(num_epochs, model, loaders)"
   ]
  },
  {
   "cell_type": "code",
   "execution_count": 23,
   "id": "e864a4c2",
   "metadata": {},
   "outputs": [
    {
     "name": "stderr",
     "output_type": "stream",
     "text": [
      "C:\\Users\\burro\\AppData\\Local\\Temp\\ipykernel_32340\\793619827.py:16: UserWarning: Implicit dimension choice for softmax has been deprecated. Change the call to include dim=X as an argument.\n",
      "  x = self.softmax(x) # probabilities of size [batch_size,10]\n",
      "C:\\Users\\burro\\anaconda3\\envs\\torch\\lib\\site-packages\\torch\\nn\\_reduction.py:42: UserWarning: size_average and reduce args will be deprecated, please use reduction='sum' instead.\n",
      "  warnings.warn(warning.format(ret))\n"
     ]
    },
    {
     "name": "stdout",
     "output_type": "stream",
     "text": [
      "\n",
      "Test set: Avg. loss: -0.8502, Accuracy: 8501/10000 (85%)\n",
      "\n"
     ]
    }
   ],
   "source": [
    "def test():\n",
    "    model.eval()\n",
    "    test_loss = 0\n",
    "    correct = 0\n",
    "    with torch.no_grad():\n",
    "        for data, target in loaders['test']:\n",
    "            output = model(data)\n",
    "            test_loss += F.nll_loss(output, target, size_average=False).item()\n",
    "            pred = output.data.max(1, keepdim=True)[1]\n",
    "            correct += pred.eq(target.data.view_as(pred)).sum()\n",
    "        test_loss /= len(loaders['test'].dataset)\n",
    "        print('\\nTest set: Avg. loss: {:.4f}, Accuracy: {}/{} ({:.0f}%)\\n'.format(\n",
    "          test_loss, correct, len(loaders['test'].dataset),\n",
    "          100. * correct / len(loaders['test'].dataset)))\n",
    "test()"
   ]
  },
  {
   "cell_type": "code",
   "execution_count": 25,
   "id": "cb54fcda",
   "metadata": {},
   "outputs": [
    {
     "name": "stderr",
     "output_type": "stream",
     "text": [
      "C:\\Users\\burro\\AppData\\Local\\Temp\\ipykernel_32340\\793619827.py:16: UserWarning: Implicit dimension choice for softmax has been deprecated. Change the call to include dim=X as an argument.\n",
      "  x = self.softmax(x) # probabilities of size [batch_size,10]\n"
     ]
    },
    {
     "data": {
      "image/png": "[encoded data removed]",
      "text/plain": [
       "<Figure size 1080x864 with 25 Axes>"
      ]
     },
     "metadata": {
      "needs_background": "light"
     },
     "output_type": "display_data"
    }
   ],
   "source": [
    "#Plot multiple\n",
    "figure = plt.figure(figsize=(15, 12))\n",
    "cols, rows = 5, 5\n",
    "for i in range(1, cols * rows + 1):\n",
    "    sample_idx = torch.randint(len(test_data), size=(1,)).item()\n",
    "    img, label = test_data[sample_idx]\n",
    "    output = model(img)\n",
    "    pred_y = torch.max(output,1)\n",
    "    pred_label = pred_y[1].numpy()\n",
    "    figure.add_subplot(rows, cols, i)\n",
    "    plt.title('gt = ' + str(label) + ', pred = ' + str(pred_label))\n",
    "    plt.axis(\"off\")\n",
    "    plt.imshow(img.squeeze(), cmap=\"gray\")\n",
    "plt.show()"
   ]
  },
  {
   "cell_type": "markdown",
   "id": "0d48b151",
   "metadata": {},
   "source": [
    "## Convolutional Neural Networks\n",
    "Convolutional neural networks are particular types of FNN -- introduced in [this paper](http://yann.lecun.com/exdb/publis/pdf/lecun-89e.pdf) by Yann LeCun-- that takes into account the structure/topology of their inputs in the processing.\n",
    "\n",
    "They tackle the following points that are ignored in standard FNNs.\n",
    "\n",
    "- **Dealing with very high-dimensional inputs.** For instance, given an RGB image of size $ 200 \\times 200 \\times 3$, the weights matrix between the input and the first hidden layer, of dimension $h_1$, is of size $120000 \\times h_1$. As a result, not only will the number of parameters explode, but the computation will also be time-consuming.\n",
    "- **Exploiting the input topology (spatial structure)**, $2D$ or $3D$ images. As shown in the dictionary learning section, images can be written as linear combination of patterns. Accordingly, instead of have a large weight matrix, it may be better to have small ones that look for certain patterns.\n",
    "- **Building invariance to certain variations**, e.g. translation, illumination, etc. In an image classification task, the output should be remain the same, to extent, after small transformation on the input.\n",
    "\n",
    "To do so, the CNNs incorporate the following techniques.\n",
    "\n",
    "- **Local connectivity**: It removes the cumbersome and time-consuming fully connection between two\n",
    " layers by local connection. That is, each layer is divided into \\\\textit{feature maps} and the weights\n",
    " are applied on local regions of the input called receptive fields of .\n",
    "- **Parameter sharing**: Going further, all neurons of a feature map are forced to share\n",
    " the same weights. Consequently, in a feature map, the neurons look for the same pattern but at \n",
    " different locations in the input. The $i$-th feature map of the $l$-layer can, therefore, be seen as the result of \n",
    " a **cross-correlation** operation between its weights $\\mathbf{W}_l^i$ and its input $\\mathbf{z}_l$. \n",
    "By language abuse, this operation is called convolution thus the name **convolutional neural networks**.\n",
    "- **Pooling/sub-sampling**: This point aims at reducing the dimension of a layer by aggregating\n",
    "its feature maps structurally. Also, the aggregation can be done so as to make the output invariant\n",
    "to small translation by taking the maximum in a sliding-window manner\n",
    "\n",
    "<p align=\"center\">\n",
    "<img src=\"conv_pool_illust.png\" width=\"450\" title=\"Fully Convolutional Neural Network Example.\" >\n",
    "</p>\n",
    "\n",
    "Strongly recommend [Stanford's CS231n CNN Tutorial](https://cs231n.github.io/convolutional-networks/) for reading.\n",
    "\n",
    "<p align=\"center\">\n",
    "<img src=\"fcn.png\" width=\"1000\" title=\"Fully Convolutional Neural Network Example.\" >\n",
    "</p>\n",
    "\n",
    "### Define network:"
   ]
  },
  {
   "cell_type": "code",
   "execution_count": 51,
   "id": "37e6e8a8",
   "metadata": {
    "scrolled": true
   },
   "outputs": [
    {
     "name": "stdout",
     "output_type": "stream",
     "text": [
      "CNN(\n",
      "  (conv1): Sequential(\n",
      "    (0): Conv2d(1, 10, kernel_size=(3, 3), stride=(1, 1), padding=(1, 1))\n",
      "    (1): ReLU()\n",
      "    (2): MaxPool2d(kernel_size=(2, 2), stride=(2, 2), padding=0, dilation=1, ceil_mode=False)\n",
      "  )\n",
      "  (conv2): Sequential(\n",
      "    (0): Conv2d(10, 20, kernel_size=(3, 3), stride=(1, 1), padding=(1, 1))\n",
      "    (1): ReLU()\n",
      "    (2): MaxPool2d(kernel_size=(2, 2), stride=(2, 2), padding=0, dilation=1, ceil_mode=False)\n",
      "  )\n",
      "  (conv3): Sequential(\n",
      "    (0): Conv2d(20, 30, kernel_size=(3, 3), stride=(1, 1), padding=(1, 1))\n",
      "    (1): ReLU()\n",
      "    (2): Conv2d(30, 30, kernel_size=(3, 3), stride=(1, 1), padding=(1, 1))\n",
      "    (3): ReLU()\n",
      "  )\n",
      "  (conv4): Sequential(\n",
      "    (0): Conv2d(30, 20, kernel_size=(3, 3), stride=(1, 1), padding=(1, 1))\n",
      "    (1): ReLU()\n",
      "    (2): Upsample(scale_factor=2.0, mode=nearest)\n",
      "  )\n",
      "  (conv5): Sequential(\n",
      "    (0): Conv2d(20, 10, kernel_size=(3, 3), stride=(1, 1), padding=(1, 1))\n",
      "    (1): ReLU()\n",
      "    (2): Upsample(scale_factor=2.0, mode=nearest)\n",
      "  )\n",
      "  (conv6): Sequential(\n",
      "    (0): Conv2d(10, 1, kernel_size=(1, 1), stride=(1, 1))\n",
      "  )\n",
      "  (HiddenFinal): Linear(in_features=784, out_features=10, bias=True)\n",
      "  (softmax): Softmax(dim=None)\n",
      ")\n"
     ]
    }
   ],
   "source": [
    "class CNN(nn.Module):\n",
    "    def __init__(self):\n",
    "        super(CNN, self).__init__() \n",
    "# Input to conv1 will be image of shape [batch_size,1,28,28] (height and width are 28 for this example)\n",
    "        self.conv1 = nn.Sequential(   \n",
    "            nn.Conv2d(in_channels=1,out_channels=10,kernel_size=(3,3),padding=1), #output of this conv is of shape [BS,10,28,28]\n",
    "            nn.ReLU(), \n",
    "            nn.MaxPool2d(kernel_size=(2,2)) #output of this is [BS,10,14,14]\n",
    "        )\n",
    "        self.conv2 = nn.Sequential( \n",
    "            nn.Conv2d(in_channels=10,out_channels=20,kernel_size=(3,3),padding=1), #output of this is [BS,20,14,14]\n",
    "            nn.ReLU(),\n",
    "            nn.MaxPool2d(kernel_size=(2,2)) # output of this is [BS,20,7,7]\n",
    "        )\n",
    "        self.conv3 = nn.Sequential(\n",
    "            nn.Conv2d(in_channels=20,out_channels=30,kernel_size=(3,3),padding=1), #Output of this [BS,30,7,7]\n",
    "            nn.ReLU(),\n",
    "            nn.Conv2d(in_channels=30,out_channels=30,kernel_size=(3,3),padding=1),\n",
    "            nn.ReLU()\n",
    "        )\n",
    "        self.conv4 = nn.Sequential(\n",
    "            nn.Conv2d(in_channels=30,out_channels=20,kernel_size=(3,3),padding=1), # [BS,20,7,7]\n",
    "            nn.ReLU(),\n",
    "            nn.Upsample(scale_factor=2)) # [BS, 20, 14, 14]\n",
    "        \n",
    "        self.conv5 = nn.Sequential(\n",
    "            nn.Conv2d(in_channels=20,out_channels=10,kernel_size=(3,3),padding=1),\n",
    "            nn.ReLU(),\n",
    "            nn.Upsample(scale_factor=2)) #[BS,10,28,28]\n",
    "        \n",
    "        \n",
    "        self.conv6 = nn.Sequential(\n",
    "            nn.Conv2d(in_channels=10,out_channels=1,kernel_size=(1,1)),\n",
    "            \n",
    "        )\n",
    "        \n",
    "        self.HiddenFinal = nn.Linear(1*28*28,10)\n",
    "        self.softmax = nn.Softmax()\n",
    "        \n",
    "            \n",
    "\n",
    "    def forward(self, x,plot=False):\n",
    "\n",
    "        x1 = self.conv1(x)\n",
    "        x2 = self.conv2(x1)\n",
    "        x3 = self.conv3(x2)\n",
    "        x4 = self.conv4(x3)\n",
    "        x5 = self.conv5(x4)\n",
    "        x6 = self.conv6(x5)\n",
    "        \n",
    "        x6b = x6.view(x6.size(0), -1) \n",
    "        x7 = self.HiddenFinal(x6b)\n",
    "        x8 = self.softmax(x7)\n",
    "        \n",
    "        if plot:\n",
    "            print('Input shape', x.shape)\n",
    "            print('After layer 1', x1.shape)\n",
    "            print('After layer 2', x2.shape)\n",
    "            print('After layer 3', x3.shape)\n",
    "            print('After layer 4', x4.shape)\n",
    "            print('After layer 5', x5.shape)\n",
    "            print('After layer 6', x6.shape)\n",
    "            print('After layer 7', x7.shape)\n",
    "            print('After layer 8', x8.shape)\n",
    "\n",
    "        return x8\n",
    "\n",
    "model = CNN()\n",
    "print(model)\n"
   ]
  },
  {
   "cell_type": "code",
   "execution_count": 52,
   "id": "92d0115d",
   "metadata": {
    "scrolled": true
   },
   "outputs": [
    {
     "name": "stdout",
     "output_type": "stream",
     "text": [
      "torch.Size([1, 1, 28, 28])\n",
      "Input shape torch.Size([1, 1, 28, 28])\n",
      "After layer 1 torch.Size([1, 10, 14, 14])\n",
      "After layer 2 torch.Size([1, 20, 7, 7])\n",
      "After layer 3 torch.Size([1, 30, 7, 7])\n",
      "After layer 4 torch.Size([1, 20, 14, 14])\n",
      "After layer 5 torch.Size([1, 10, 28, 28])\n",
      "After layer 6 torch.Size([1, 1, 28, 28])\n",
      "After layer 7 torch.Size([1, 10])\n",
      "After layer 8 torch.Size([1, 10])\n"
     ]
    },
    {
     "name": "stderr",
     "output_type": "stream",
     "text": [
      "C:\\Users\\burro\\AppData\\Local\\Temp\\ipykernel_32340\\959989485.py:53: UserWarning: Implicit dimension choice for softmax has been deprecated. Change the call to include dim=X as an argument.\n",
      "  x8 = self.softmax(x7)\n"
     ]
    }
   ],
   "source": [
    "#Look at layers\n",
    "im,label = train_data[0] #[1,28,28] \n",
    "im = im.unsqueeze(1) # -> [1,1,28,28]\n",
    "print(im.shape)\n",
    "\n",
    "output = model(im,plot=True)"
   ]
  },
  {
   "cell_type": "markdown",
   "id": "f9e25859",
   "metadata": {},
   "source": [
    "## Train this network on MNIST classification"
   ]
  },
  {
   "cell_type": "code",
   "execution_count": 54,
   "id": "c5fb2a6a",
   "metadata": {},
   "outputs": [
    {
     "name": "stderr",
     "output_type": "stream",
     "text": [
      "C:\\Users\\burro\\AppData\\Local\\Temp\\ipykernel_32340\\959989485.py:53: UserWarning: Implicit dimension choice for softmax has been deprecated. Change the call to include dim=X as an argument.\n",
      "  x8 = self.softmax(x7)\n"
     ]
    },
    {
     "name": "stdout",
     "output_type": "stream",
     "text": [
      "Epoch [1/10], Step [100/600], Loss: -0.0900\n",
      "Epoch [1/10], Step [200/600], Loss: -0.1300\n",
      "Epoch [1/10], Step [300/600], Loss: -0.1300\n",
      "Epoch [1/10], Step [400/600], Loss: -0.1200\n"
     ]
    },
    {
     "ename": "KeyboardInterrupt",
     "evalue": "",
     "output_type": "error",
     "traceback": [
      "\u001b[1;31m---------------------------------------------------------------------------\u001b[0m",
      "\u001b[1;31mKeyboardInterrupt\u001b[0m                         Traceback (most recent call last)",
      "Input \u001b[1;32mIn [54]\u001b[0m, in \u001b[0;36m<cell line: 49>\u001b[1;34m()\u001b[0m\n\u001b[0;32m     43\u001b[0m             \u001b[38;5;28;01mif\u001b[39;00m (i\u001b[38;5;241m+\u001b[39m\u001b[38;5;241m1\u001b[39m) \u001b[38;5;241m%\u001b[39m \u001b[38;5;241m100\u001b[39m \u001b[38;5;241m==\u001b[39m \u001b[38;5;241m0\u001b[39m:\n\u001b[0;32m     44\u001b[0m                 \u001b[38;5;28mprint\u001b[39m (\u001b[38;5;124m'\u001b[39m\u001b[38;5;124mEpoch [\u001b[39m\u001b[38;5;132;01m{}\u001b[39;00m\u001b[38;5;124m/\u001b[39m\u001b[38;5;132;01m{}\u001b[39;00m\u001b[38;5;124m], Step [\u001b[39m\u001b[38;5;132;01m{}\u001b[39;00m\u001b[38;5;124m/\u001b[39m\u001b[38;5;132;01m{}\u001b[39;00m\u001b[38;5;124m], Loss: \u001b[39m\u001b[38;5;132;01m{:.4f}\u001b[39;00m\u001b[38;5;124m'\u001b[39m \n\u001b[0;32m     45\u001b[0m                        \u001b[38;5;241m.\u001b[39mformat(epoch \u001b[38;5;241m+\u001b[39m \u001b[38;5;241m1\u001b[39m, num_epochs, i \u001b[38;5;241m+\u001b[39m \u001b[38;5;241m1\u001b[39m, total_step, loss\u001b[38;5;241m.\u001b[39mitem()))               \n\u001b[1;32m---> 49\u001b[0m \u001b[43mtrain\u001b[49m\u001b[43m(\u001b[49m\u001b[43mnum_epochs\u001b[49m\u001b[43m,\u001b[49m\u001b[43m \u001b[49m\u001b[43mmodel\u001b[49m\u001b[43m,\u001b[49m\u001b[43m \u001b[49m\u001b[43mloaders\u001b[49m\u001b[43m)\u001b[49m\n",
      "Input \u001b[1;32mIn [54]\u001b[0m, in \u001b[0;36mtrain\u001b[1;34m(num_epochs, model, loaders)\u001b[0m\n\u001b[0;32m     37\u001b[0m optimizer\u001b[38;5;241m.\u001b[39mzero_grad()           \n\u001b[0;32m     39\u001b[0m \u001b[38;5;66;03m# backpropagation, compute gradients \u001b[39;00m\n\u001b[1;32m---> 40\u001b[0m \u001b[43mloss\u001b[49m\u001b[38;5;241;43m.\u001b[39;49m\u001b[43mbackward\u001b[49m\u001b[43m(\u001b[49m\u001b[43m)\u001b[49m                \u001b[38;5;66;03m# apply gradients             \u001b[39;00m\n\u001b[0;32m     41\u001b[0m optimizer\u001b[38;5;241m.\u001b[39mstep()                \n\u001b[0;32m     43\u001b[0m \u001b[38;5;28;01mif\u001b[39;00m (i\u001b[38;5;241m+\u001b[39m\u001b[38;5;241m1\u001b[39m) \u001b[38;5;241m%\u001b[39m \u001b[38;5;241m100\u001b[39m \u001b[38;5;241m==\u001b[39m \u001b[38;5;241m0\u001b[39m:\n",
      "File \u001b[1;32m~\\anaconda3\\envs\\torch\\lib\\site-packages\\torch\\_tensor.py:396\u001b[0m, in \u001b[0;36mTensor.backward\u001b[1;34m(self, gradient, retain_graph, create_graph, inputs)\u001b[0m\n\u001b[0;32m    387\u001b[0m \u001b[38;5;28;01mif\u001b[39;00m has_torch_function_unary(\u001b[38;5;28mself\u001b[39m):\n\u001b[0;32m    388\u001b[0m     \u001b[38;5;28;01mreturn\u001b[39;00m handle_torch_function(\n\u001b[0;32m    389\u001b[0m         Tensor\u001b[38;5;241m.\u001b[39mbackward,\n\u001b[0;32m    390\u001b[0m         (\u001b[38;5;28mself\u001b[39m,),\n\u001b[1;32m   (...)\u001b[0m\n\u001b[0;32m    394\u001b[0m         create_graph\u001b[38;5;241m=\u001b[39mcreate_graph,\n\u001b[0;32m    395\u001b[0m         inputs\u001b[38;5;241m=\u001b[39minputs)\n\u001b[1;32m--> 396\u001b[0m \u001b[43mtorch\u001b[49m\u001b[38;5;241;43m.\u001b[39;49m\u001b[43mautograd\u001b[49m\u001b[38;5;241;43m.\u001b[39;49m\u001b[43mbackward\u001b[49m\u001b[43m(\u001b[49m\u001b[38;5;28;43mself\u001b[39;49m\u001b[43m,\u001b[49m\u001b[43m \u001b[49m\u001b[43mgradient\u001b[49m\u001b[43m,\u001b[49m\u001b[43m \u001b[49m\u001b[43mretain_graph\u001b[49m\u001b[43m,\u001b[49m\u001b[43m \u001b[49m\u001b[43mcreate_graph\u001b[49m\u001b[43m,\u001b[49m\u001b[43m \u001b[49m\u001b[43minputs\u001b[49m\u001b[38;5;241;43m=\u001b[39;49m\u001b[43minputs\u001b[49m\u001b[43m)\u001b[49m\n",
      "File \u001b[1;32m~\\anaconda3\\envs\\torch\\lib\\site-packages\\torch\\autograd\\__init__.py:173\u001b[0m, in \u001b[0;36mbackward\u001b[1;34m(tensors, grad_tensors, retain_graph, create_graph, grad_variables, inputs)\u001b[0m\n\u001b[0;32m    168\u001b[0m     retain_graph \u001b[38;5;241m=\u001b[39m create_graph\n\u001b[0;32m    170\u001b[0m \u001b[38;5;66;03m# The reason we repeat same the comment below is that\u001b[39;00m\n\u001b[0;32m    171\u001b[0m \u001b[38;5;66;03m# some Python versions print out the first line of a multi-line function\u001b[39;00m\n\u001b[0;32m    172\u001b[0m \u001b[38;5;66;03m# calls in the traceback and some print out the last line\u001b[39;00m\n\u001b[1;32m--> 173\u001b[0m \u001b[43mVariable\u001b[49m\u001b[38;5;241;43m.\u001b[39;49m\u001b[43m_execution_engine\u001b[49m\u001b[38;5;241;43m.\u001b[39;49m\u001b[43mrun_backward\u001b[49m\u001b[43m(\u001b[49m\u001b[43m  \u001b[49m\u001b[38;5;66;43;03m# Calls into the C++ engine to run the backward pass\u001b[39;49;00m\n\u001b[0;32m    174\u001b[0m \u001b[43m    \u001b[49m\u001b[43mtensors\u001b[49m\u001b[43m,\u001b[49m\u001b[43m \u001b[49m\u001b[43mgrad_tensors_\u001b[49m\u001b[43m,\u001b[49m\u001b[43m \u001b[49m\u001b[43mretain_graph\u001b[49m\u001b[43m,\u001b[49m\u001b[43m \u001b[49m\u001b[43mcreate_graph\u001b[49m\u001b[43m,\u001b[49m\u001b[43m \u001b[49m\u001b[43minputs\u001b[49m\u001b[43m,\u001b[49m\n\u001b[0;32m    175\u001b[0m \u001b[43m    \u001b[49m\u001b[43mallow_unreachable\u001b[49m\u001b[38;5;241;43m=\u001b[39;49m\u001b[38;5;28;43;01mTrue\u001b[39;49;00m\u001b[43m,\u001b[49m\u001b[43m \u001b[49m\u001b[43maccumulate_grad\u001b[49m\u001b[38;5;241;43m=\u001b[39;49m\u001b[38;5;28;43;01mTrue\u001b[39;49;00m\u001b[43m)\u001b[49m\n",
      "\u001b[1;31mKeyboardInterrupt\u001b[0m: "
     ]
    }
   ],
   "source": [
    "learning_rate = 0.01\n",
    "\n",
    "optimizer = optim.Adam(model.parameters(), lr = learning_rate)   \n",
    "\n",
    "loss_func = nn.NLLLoss()   \n",
    "\n",
    "\n",
    "# Train:\n",
    "num_epochs = 10\n",
    "\n",
    "def train(num_epochs, model, loaders):\n",
    "    \n",
    "    model.train()\n",
    "        \n",
    "    # Train the model\n",
    "    total_step = len(loaders['train'])\n",
    "        \n",
    "    for epoch in range(num_epochs):\n",
    "        for i, (images, labels) in enumerate(loaders['train']):\n",
    "            # images is of size [batch_size, 28, 28]\n",
    "            \n",
    "            \n",
    "            # gives batch data, normalize x when iterate train_loader\n",
    "            b_x = Variable(images)   # batch x\n",
    "            b_y = Variable(labels)   # batch y\n",
    "\n",
    "            output = model(b_x)#[0]   \n",
    "            \n",
    "\n",
    "            loss = loss_func(output, b_y)\n",
    "            \n",
    "            # clear gradients for this training step   \n",
    "            optimizer.zero_grad()           \n",
    "            \n",
    "            # backpropagation, compute gradients \n",
    "            loss.backward()                # apply gradients             \n",
    "            optimizer.step()                \n",
    "            \n",
    "            if (i+1) % 100 == 0:\n",
    "                print ('Epoch [{}/{}], Step [{}/{}], Loss: {:.4f}' \n",
    "                       .format(epoch + 1, num_epochs, i + 1, total_step, loss.item()))               \n",
    "        \n",
    "    \n",
    "    \n",
    "train(num_epochs, model, loaders)"
   ]
  },
  {
   "cell_type": "markdown",
   "id": "cdb3a866",
   "metadata": {},
   "source": [
    "## Homework:\n",
    "\n",
    "### Run an image classification model in the CIFAR10 dataset:\n",
    "You will need to:\n",
    "- Load the data, and load into dataloaders\n",
    "- Define a network (see end)\n",
    "- Define an optimizer (recommened [Stochastic Gradient Descent](https://pytorch.org/docs/stable/generated/torch.optim.SGD.html) with lr = 0.01)\n",
    "- Define loss function (reccommend [CrossEntropyLoss](https://pytorch.org/docs/stable/generated/torch.nn.CrossEntropyLoss.html) (note, a softmax function should not be used in the final layer of the network when using CrossEntropy))\n",
    "- Run a training loop\n",
    "- Write some code which print a montage of images, with the title on each subplot as the ground truth label and the predicted label\n",
    "\n",
    "Some remarks:\n",
    "- The images in CIFAR10 are RGB images, and are therefore of shape $(32,32,3)$, unlike MNIST which were greyscale and of shape $(28,28)$.\n",
    "- Pytorch requires inputs to a convolutional layer to be of shape (BatchSize,Channels,Height,Width). When using dataloaders this is done automatically, and so during your training loop you won't need to worry about this. However, if defining your own function (for example for plotting the output of the model), executing: \"img, label = train_data[0]\" will error as img is of shape (3,32,32), and not (1,3,32,32) -- (as you are essentially passing a batch of 1 when predicting a single image.\n",
    "- A similar problem here is when plotting the image. matplotlib expects your image to be of shape (32,32,3) (i.e. the channels to be the final dim). To transpose an image from shape (3,32,32) to (32,32,3), use the np.transpose function as in: img = img.np.transpose(img,[1,2,0])\n",
    "## Network:\n",
    "You can in principle define your own architecture, but I recommend making a simple network according to the following pseduocode\n",
    "* Conv2D (with filters 6, padding = 1) (remark: in_channels will be 3 here as RGB image!)\n",
    "* ReLU, MaxPool\n",
    "* Conv2D (with filters 16, padding = 1) \n",
    "* ReLU, MaxPool\n",
    "* Flatten\n",
    "* FullyConnectedLayer, 120 (has input 8x8x16)\n",
    "* FullyConnectedLayer, 84\n",
    "* FullyConnectedLayer, 10\n",
    "\n",
    "As we aren't using softmax, the predicted class of the network will be the entry with the maximum value.\n",
    "\n",
    "### This network contains a relatively low number of parameters. This is so it will train in a reasonable amount of time on your machine. As a result, your network accuracy will not be amazing. Do not worry about this.\n"
   ]
  },
  {
   "cell_type": "code",
   "execution_count": 33,
   "id": "a5f6d2d6",
   "metadata": {},
   "outputs": [
    {
     "name": "stdout",
     "output_type": "stream",
     "text": [
      "Downloading https://www.cs.toronto.edu/~kriz/cifar-10-python.tar.gz to data\\cifar-10-python.tar.gz\n"
     ]
    },
    {
     "name": "stderr",
     "output_type": "stream",
     "text": [
      "100%|███████████████████████████████████████████████████████████████| 170498071/170498071 [00:26<00:00, 6475301.87it/s]\n"
     ]
    },
    {
     "name": "stdout",
     "output_type": "stream",
     "text": [
      "Extracting data\\cifar-10-python.tar.gz to data\n",
      "Files already downloaded and verified\n"
     ]
    }
   ],
   "source": [
    "from torchvision import datasets\n",
    "from torchvision.transforms import ToTensor\n",
    "\n",
    "train_data = datasets.CIFAR10(root='data', \n",
    "                            train=True,\n",
    "                            transform=ToTensor(),\n",
    "                             download=True)\n",
    "test_data = datasets.CIFAR10(\n",
    "    root = 'data', \n",
    "    train = False, \n",
    "    transform = ToTensor(),\n",
    "    download=True\n",
    ")\n",
    "\n",
    "classes = ('plane', 'car', 'bird', 'cat',\n",
    "           'deer', 'dog', 'frog', 'horse', 'ship', 'truck')"
   ]
  },
  {
   "cell_type": "code",
   "execution_count": 34,
   "id": "f542043a",
   "metadata": {},
   "outputs": [
    {
     "data": {
      "text/plain": [
       "{'train': <torch.utils.data.dataloader.DataLoader at 0x29f26e35be0>,\n",
       " 'test': <torch.utils.data.dataloader.DataLoader at 0x29f26e35d60>}"
      ]
     },
     "execution_count": 34,
     "metadata": {},
     "output_type": "execute_result"
    }
   ],
   "source": [
    "import torch\n",
    "from torch.utils.data import DataLoader\n",
    "loaders = {\n",
    "    'train' : torch.utils.data.DataLoader(train_data, \n",
    "                                          batch_size=100, \n",
    "                                          shuffle=True, \n",
    "                                          num_workers=1),\n",
    "    \n",
    "    'test'  : torch.utils.data.DataLoader(test_data, \n",
    "                                          batch_size=100, \n",
    "                                          shuffle=True, \n",
    "                                          num_workers=1),\n",
    "}\n",
    "loaders"
   ]
  },
  {
   "cell_type": "code",
   "execution_count": 39,
   "id": "76441c8f",
   "metadata": {},
   "outputs": [
    {
     "name": "stdout",
     "output_type": "stream",
     "text": [
      "image shape: torch.Size([3, 32, 32])\n",
      "image shape: torch.Size([32, 32, 3])\n",
      "label is 5\n",
      "corresponding class is: dog\n"
     ]
    },
    {
     "data": {
      "text/plain": [
       "Text(0.5, 1.0, 'dog')"
      ]
     },
     "execution_count": 39,
     "metadata": {},
     "output_type": "execute_result"
    },
    {
     "data": {
      "image/png": "[encoded data removed]",
      "text/plain": [
       "<Figure size 432x288 with 1 Axes>"
      ]
     },
     "metadata": {
      "needs_background": "light"
     },
     "output_type": "display_data"
    }
   ],
   "source": [
    "import numpy as np\n",
    "import matplotlib.pyplot as plt\n",
    "# Plot an image with the class\n",
    "\n",
    "i=500# change index\n",
    "im, label = train_data[i]\n",
    "print('image shape:' , im.shape) \n",
    "im = np.transpose(im, [1,2,0])\n",
    "print('image shape:' , im.shape) \n",
    "print('label is', label)\n",
    "print('corresponding class is:', classes[label])\n",
    "plt.imshow(im)\n",
    "plt.title(classes[train_data.targets[i]])"
   ]
  },
  {
   "cell_type": "code",
   "execution_count": null,
   "id": "b867d1a3",
   "metadata": {},
   "outputs": [],
   "source": [
    "# Define network, loss function, optimizer, and write training loop. Finally plot a montage of results"
   ]
  },
  {
   "cell_type": "code",
   "execution_count": null,
   "id": "a727a959",
   "metadata": {},
   "outputs": [],
   "source": []
  }
 ],
 "metadata": {
  "kernelspec": {
   "display_name": "Python 3 (ipykernel)",
   "language": "python",
   "name": "python3"
  },
  "language_info": {
   "codemirror_mode": {
    "name": "ipython",
    "version": 3
   },
   "file_extension": ".py",
   "mimetype": "text/x-python",
   "name": "python",
   "nbconvert_exporter": "python",
   "pygments_lexer": "ipython3",
   "version": "3.8.13"
  }
 },
 "nbformat": 4,
 "nbformat_minor": 5
}
